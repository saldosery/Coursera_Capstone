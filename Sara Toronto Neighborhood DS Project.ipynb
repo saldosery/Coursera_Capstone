{
    "cells": [
        {
            "cell_type": "markdown",
            "metadata": {
                "collapsed": true
            },
            "source": "# Sara Toronto Neighborhood DS Project"
        },
        {
            "cell_type": "markdown",
            "metadata": {},
            "source": "## Part 1"
        },
        {
            "cell_type": "markdown",
            "metadata": {},
            "source": "### Scraping Data"
        },
        {
            "cell_type": "code",
            "execution_count": 4,
            "metadata": {},
            "outputs": [
                {
                    "data": {
                        "text/plain": "<html><body><p>https://en.wikipedia.org/wiki/List_of_postal_codes_of_Canada:_M</p></body></html>"
                    },
                    "execution_count": 4,
                    "metadata": {},
                    "output_type": "execute_result"
                }
            ],
            "source": "html_doc = \"https://en.wikipedia.org/wiki/List_of_postal_codes_of_Canada:_M\"\nfrom bs4 import BeautifulSoup\nsoup = BeautifulSoup(html_doc, 'lxml')\nsoup"
        },
        {
            "cell_type": "markdown",
            "metadata": {},
            "source": "### Creating the Dataframe"
        },
        {
            "cell_type": "code",
            "execution_count": null,
            "metadata": {},
            "outputs": [],
            "source": ""
        }
    ],
    "metadata": {
        "kernelspec": {
            "display_name": "Python 3.6",
            "language": "python",
            "name": "python3"
        },
        "language_info": {
            "codemirror_mode": {
                "name": "ipython",
                "version": 3
            },
            "file_extension": ".py",
            "mimetype": "text/x-python",
            "name": "python",
            "nbconvert_exporter": "python",
            "pygments_lexer": "ipython3",
            "version": "3.6.9"
        }
    },
    "nbformat": 4,
    "nbformat_minor": 1
}